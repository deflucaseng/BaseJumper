{
 "cells": [
  {
   "cell_type": "markdown",
   "metadata": {},
   "source": [
    "## This is a rough guide of how I translated my language into x86 Assembly with that supports linux. ##\n",
    "\n",
    "\n",
    "\n",
    "All integer variables will be put in .bss initialized to a value of zero. They will be represented as doublewords or 32 bit numbers.\n",
    "Binary variables will be encoded as just a single byte for now.\n",
    "\n"
   ]
  },
  {
   "cell_type": "code",
   "execution_count": null,
   "metadata": {
    "vscode": {
     "languageId": "plaintext"
    }
   },
   "outputs": [],
   "source": [
    "true_msg db 'true', 0xA\n",
    "true_len equ $ - true_msg\n",
    "false_msg db 'false', 0xA\n",
    "false_len equ $ - false_msg"
   ]
  },
  {
   "cell_type": "markdown",
   "metadata": {},
   "source": [
    "# Start #"
   ]
  },
  {
   "cell_type": "code",
   "execution_count": null,
   "metadata": {
    "vscode": {
     "languageId": "plaintext"
    }
   },
   "outputs": [],
   "source": [
    "global _start ; Define the start\n",
    "\n",
    "section .text: ; Define the start of the code segment where instructions go\n",
    "\n",
    "_start:   ; Entry Point\n"
   ]
  },
  {
   "cell_type": "markdown",
   "metadata": {},
   "source": [
    "# End #\n",
    "\n",
    "syscall for exit, exit status, and make syscall"
   ]
  },
  {
   "cell_type": "code",
   "execution_count": null,
   "metadata": {
    "vscode": {
     "languageId": "plaintext"
    }
   },
   "outputs": [],
   "source": [
    "\tmov eax, 0x1\n",
    "\tmov ebx, 0\n",
    "\tint 0x80"
   ]
  },
  {
   "cell_type": "markdown",
   "metadata": {},
   "source": [
    "# Jump Node #"
   ]
  },
  {
   "cell_type": "code",
   "execution_count": null,
   "metadata": {
    "vscode": {
     "languageId": "plaintext"
    }
   },
   "outputs": [],
   "source": []
  },
  {
   "cell_type": "markdown",
   "metadata": {},
   "source": [
    "# Simple Assignment Node #"
   ]
  },
  {
   "cell_type": "code",
   "execution_count": null,
   "metadata": {
    "vscode": {
     "languageId": "plaintext"
    }
   },
   "outputs": [],
   "source": []
  },
  {
   "cell_type": "markdown",
   "metadata": {},
   "source": [
    "# Evaluated Assignment Node #"
   ]
  },
  {
   "cell_type": "code",
   "execution_count": null,
   "metadata": {
    "vscode": {
     "languageId": "plaintext"
    }
   },
   "outputs": [],
   "source": []
  },
  {
   "cell_type": "markdown",
   "metadata": {},
   "source": [
    "# Display Node #"
   ]
  },
  {
   "cell_type": "markdown",
   "metadata": {},
   "source": []
  },
  {
   "cell_type": "markdown",
   "metadata": {},
   "source": [
    "# Sample #"
   ]
  },
  {
   "cell_type": "markdown",
   "metadata": {},
   "source": [
    "global _start\n",
    "\n",
    "section .text:\n",
    "\n",
    "_start:\n",
    "\tmov eax, 0x4\n",
    "\tmov ebx, 1\n",
    "\tmov ecx, message\n",
    "\tmov edx, message_length\n",
    "\tint 0x80\n",
    "\n",
    "\n",
    "\tmov eax, 0x1\n",
    "\tmov ebx, 0\n",
    "\tint 0x80\n",
    "\n",
    "section .data:\n",
    "\tmessage: db \"Hello World!\", 0xA\n",
    "\tmessage_length equ $-message"
   ]
  }
 ],
 "metadata": {
  "language_info": {
   "name": "python"
  }
 },
 "nbformat": 4,
 "nbformat_minor": 2
}
